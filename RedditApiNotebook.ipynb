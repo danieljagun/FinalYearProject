{
 "cells": [
  {
   "cell_type": "code",
   "execution_count": 42,
   "metadata": {
    "collapsed": true,
    "ExecuteTime": {
     "end_time": "2023-10-23T22:13:11.952707Z",
     "start_time": "2023-10-23T22:13:11.920554Z"
    }
   },
   "outputs": [],
   "source": [
    "from pprint import pprint\n",
    "import pandas as pd\n",
    "import numpy as np\n",
    "# import matplotlib.py ploy as plt\n",
    "# import seaborn as sns"
   ]
  },
  {
   "cell_type": "code",
   "execution_count": 43,
   "outputs": [],
   "source": [
    "import praw\n",
    "\n",
    "user_agent = \"Scraper 1.0 by /u/danieljagun\"\n",
    "reddit = praw.Reddit(\n",
    "    client_id=\"K-AfR5cf3qvXEXM_MTn7IQ\",\n",
    "    client_secret=\"JdAlNMb6dPkWCd4bX4PdXCwIpbA5gQ\",\n",
    "    user_agent=user_agent\n",
    ")"
   ],
   "metadata": {
    "collapsed": false,
    "ExecuteTime": {
     "end_time": "2023-10-23T22:13:11.953280Z",
     "start_time": "2023-10-23T22:13:11.927319Z"
    }
   }
  },
  {
   "cell_type": "markdown",
   "source": [
    "# hot new rising top\n",
    "headlines = set()\n",
    "for submission in reddit.subreddit('CryptoCurrency').hot(limit=None):\n",
    "    print(submission.title)\n",
    "    print(submission.id)\n",
    "    print(submission.author)\n",
    "    print(submission.created_utc)\n",
    "    print(submission.score)\n",
    "    print(submission.upvote_ratio)\n",
    "    print(submission.url)\n",
    "    break\n",
    "    headlines.add(submission.title)\n",
    "print(len(headlines))"
   ],
   "metadata": {
    "collapsed": false
   }
  },
  {
   "cell_type": "code",
   "execution_count": 44,
   "outputs": [
    {
     "name": "stdout",
     "output_type": "stream",
     "text": [
      "331\n"
     ]
    }
   ],
   "source": [
    "# hot new rising top\n",
    "headlines = set()\n",
    "for submission in reddit.subreddit('CryptoCurrency').hot(limit=None):\n",
    "    headlines.add(submission.title)\n",
    "print(len(headlines))"
   ],
   "metadata": {
    "collapsed": false,
    "ExecuteTime": {
     "end_time": "2023-10-23T22:13:20.479619Z",
     "start_time": "2023-10-23T22:13:11.931347Z"
    }
   }
  },
  {
   "cell_type": "code",
   "execution_count": 45,
   "outputs": [
    {
     "data": {
      "text/plain": "                                                   0\n0                  The Great Wall in Web3 (Research)\n1  Binance Says It Has Onboarded New Euro Fiat Pa...\n2                   Syntropy's Data Layer Whitepaper\n3  SEC's Bitcoin ETF Decision Today - VanEck, Wis...\n4  Morgan Stanley believes crypto winter is over,...",
      "text/html": "<div>\n<style scoped>\n    .dataframe tbody tr th:only-of-type {\n        vertical-align: middle;\n    }\n\n    .dataframe tbody tr th {\n        vertical-align: top;\n    }\n\n    .dataframe thead th {\n        text-align: right;\n    }\n</style>\n<table border=\"1\" class=\"dataframe\">\n  <thead>\n    <tr style=\"text-align: right;\">\n      <th></th>\n      <th>0</th>\n    </tr>\n  </thead>\n  <tbody>\n    <tr>\n      <th>0</th>\n      <td>The Great Wall in Web3 (Research)</td>\n    </tr>\n    <tr>\n      <th>1</th>\n      <td>Binance Says It Has Onboarded New Euro Fiat Pa...</td>\n    </tr>\n    <tr>\n      <th>2</th>\n      <td>Syntropy's Data Layer Whitepaper</td>\n    </tr>\n    <tr>\n      <th>3</th>\n      <td>SEC's Bitcoin ETF Decision Today - VanEck, Wis...</td>\n    </tr>\n    <tr>\n      <th>4</th>\n      <td>Morgan Stanley believes crypto winter is over,...</td>\n    </tr>\n  </tbody>\n</table>\n</div>"
     },
     "execution_count": 45,
     "metadata": {},
     "output_type": "execute_result"
    }
   ],
   "source": [
    "df = pd.DataFrame(headlines)\n",
    "df.head()"
   ],
   "metadata": {
    "collapsed": false,
    "ExecuteTime": {
     "end_time": "2023-10-23T22:13:20.487831Z",
     "start_time": "2023-10-23T22:13:20.484124Z"
    }
   }
  },
  {
   "cell_type": "code",
   "execution_count": 46,
   "outputs": [],
   "source": [
    "df.to_csv('titles.csv', header=False, encoding='utf-8', index=False)"
   ],
   "metadata": {
    "collapsed": false,
    "ExecuteTime": {
     "end_time": "2023-10-23T22:13:20.493965Z",
     "start_time": "2023-10-23T22:13:20.490479Z"
    }
   }
  },
  {
   "cell_type": "code",
   "execution_count": 47,
   "outputs": [
    {
     "name": "stderr",
     "output_type": "stream",
     "text": [
      "[nltk_data] Downloading package vader_lexicon to\n",
      "[nltk_data]     /Users/daniel/nltk_data...\n",
      "[nltk_data]   Package vader_lexicon is already up-to-date!\n"
     ]
    },
    {
     "data": {
      "text/plain": "True"
     },
     "execution_count": 47,
     "metadata": {},
     "output_type": "execute_result"
    }
   ],
   "source": [
    "import nltk\n",
    "nltk.download('vader_lexicon')"
   ],
   "metadata": {
    "collapsed": false,
    "ExecuteTime": {
     "end_time": "2023-10-23T22:13:20.556050Z",
     "start_time": "2023-10-23T22:13:20.495887Z"
    }
   }
  },
  {
   "cell_type": "code",
   "execution_count": 48,
   "outputs": [
    {
     "name": "stdout",
     "output_type": "stream",
     "text": [
      "[{'compound': 0.6249,\n",
      "  'headline': 'The Great Wall in Web3 (Research)',\n",
      "  'neg': 0.0,\n",
      "  'neu': 0.549,\n",
      "  'pos': 0.451},\n",
      " {'compound': 0.0,\n",
      "  'headline': 'Binance Says It Has Onboarded New Euro Fiat Partners for Deposits, Withdrawals',\n",
      "  'neg': 0.0,\n",
      "  'neu': 1.0,\n",
      "  'pos': 0.0},\n",
      " {'compound': 0.0,\n",
      "  'headline': \"Syntropy's Data Layer Whitepaper\",\n",
      "  'neg': 0.0,\n",
      "  'neu': 1.0,\n",
      "  'pos': 0.0}]\n"
     ]
    }
   ],
   "source": [
    "from nltk.sentiment.vader import SentimentIntensityAnalyzer as SENIA\n",
    "\n",
    "senia = SENIA()\n",
    "results = []\n",
    "\n",
    "for line in headlines:\n",
    "    pol_score = senia.polarity_scores(line)\n",
    "    pol_score['headline'] = line\n",
    "    results.append(pol_score)\n",
    "\n",
    "pprint(results[:3], width=100)"
   ],
   "metadata": {
    "collapsed": false,
    "ExecuteTime": {
     "end_time": "2023-10-23T22:13:20.596104Z",
     "start_time": "2023-10-23T22:13:20.539687Z"
    }
   }
  },
  {
   "cell_type": "code",
   "execution_count": 49,
   "outputs": [
    {
     "data": {
      "text/plain": "   neg    neu    pos  compound  \\\n0  0.0  0.549  0.451    0.6249   \n1  0.0  1.000  0.000    0.0000   \n2  0.0  1.000  0.000    0.0000   \n3  0.0  1.000  0.000    0.0000   \n4  0.0  1.000  0.000    0.0000   \n\n                                            headline  \n0                  The Great Wall in Web3 (Research)  \n1  Binance Says It Has Onboarded New Euro Fiat Pa...  \n2                   Syntropy's Data Layer Whitepaper  \n3  SEC's Bitcoin ETF Decision Today - VanEck, Wis...  \n4  Morgan Stanley believes crypto winter is over,...  ",
      "text/html": "<div>\n<style scoped>\n    .dataframe tbody tr th:only-of-type {\n        vertical-align: middle;\n    }\n\n    .dataframe tbody tr th {\n        vertical-align: top;\n    }\n\n    .dataframe thead th {\n        text-align: right;\n    }\n</style>\n<table border=\"1\" class=\"dataframe\">\n  <thead>\n    <tr style=\"text-align: right;\">\n      <th></th>\n      <th>neg</th>\n      <th>neu</th>\n      <th>pos</th>\n      <th>compound</th>\n      <th>headline</th>\n    </tr>\n  </thead>\n  <tbody>\n    <tr>\n      <th>0</th>\n      <td>0.0</td>\n      <td>0.549</td>\n      <td>0.451</td>\n      <td>0.6249</td>\n      <td>The Great Wall in Web3 (Research)</td>\n    </tr>\n    <tr>\n      <th>1</th>\n      <td>0.0</td>\n      <td>1.000</td>\n      <td>0.000</td>\n      <td>0.0000</td>\n      <td>Binance Says It Has Onboarded New Euro Fiat Pa...</td>\n    </tr>\n    <tr>\n      <th>2</th>\n      <td>0.0</td>\n      <td>1.000</td>\n      <td>0.000</td>\n      <td>0.0000</td>\n      <td>Syntropy's Data Layer Whitepaper</td>\n    </tr>\n    <tr>\n      <th>3</th>\n      <td>0.0</td>\n      <td>1.000</td>\n      <td>0.000</td>\n      <td>0.0000</td>\n      <td>SEC's Bitcoin ETF Decision Today - VanEck, Wis...</td>\n    </tr>\n    <tr>\n      <th>4</th>\n      <td>0.0</td>\n      <td>1.000</td>\n      <td>0.000</td>\n      <td>0.0000</td>\n      <td>Morgan Stanley believes crypto winter is over,...</td>\n    </tr>\n  </tbody>\n</table>\n</div>"
     },
     "execution_count": 49,
     "metadata": {},
     "output_type": "execute_result"
    }
   ],
   "source": [
    "df = pd.DataFrame.from_records(results)\n",
    "df.head()"
   ],
   "metadata": {
    "collapsed": false,
    "ExecuteTime": {
     "end_time": "2023-10-23T22:13:20.596470Z",
     "start_time": "2023-10-23T22:13:20.546179Z"
    }
   }
  },
  {
   "cell_type": "code",
   "execution_count": 50,
   "outputs": [
    {
     "data": {
      "text/plain": "   neg    neu    pos  compound  \\\n0  0.0  0.549  0.451    0.6249   \n1  0.0  1.000  0.000    0.0000   \n2  0.0  1.000  0.000    0.0000   \n3  0.0  1.000  0.000    0.0000   \n4  0.0  1.000  0.000    0.0000   \n\n                                            headline  label  \n0                  The Great Wall in Web3 (Research)      1  \n1  Binance Says It Has Onboarded New Euro Fiat Pa...      0  \n2                   Syntropy's Data Layer Whitepaper      0  \n3  SEC's Bitcoin ETF Decision Today - VanEck, Wis...      0  \n4  Morgan Stanley believes crypto winter is over,...      0  ",
      "text/html": "<div>\n<style scoped>\n    .dataframe tbody tr th:only-of-type {\n        vertical-align: middle;\n    }\n\n    .dataframe tbody tr th {\n        vertical-align: top;\n    }\n\n    .dataframe thead th {\n        text-align: right;\n    }\n</style>\n<table border=\"1\" class=\"dataframe\">\n  <thead>\n    <tr style=\"text-align: right;\">\n      <th></th>\n      <th>neg</th>\n      <th>neu</th>\n      <th>pos</th>\n      <th>compound</th>\n      <th>headline</th>\n      <th>label</th>\n    </tr>\n  </thead>\n  <tbody>\n    <tr>\n      <th>0</th>\n      <td>0.0</td>\n      <td>0.549</td>\n      <td>0.451</td>\n      <td>0.6249</td>\n      <td>The Great Wall in Web3 (Research)</td>\n      <td>1</td>\n    </tr>\n    <tr>\n      <th>1</th>\n      <td>0.0</td>\n      <td>1.000</td>\n      <td>0.000</td>\n      <td>0.0000</td>\n      <td>Binance Says It Has Onboarded New Euro Fiat Pa...</td>\n      <td>0</td>\n    </tr>\n    <tr>\n      <th>2</th>\n      <td>0.0</td>\n      <td>1.000</td>\n      <td>0.000</td>\n      <td>0.0000</td>\n      <td>Syntropy's Data Layer Whitepaper</td>\n      <td>0</td>\n    </tr>\n    <tr>\n      <th>3</th>\n      <td>0.0</td>\n      <td>1.000</td>\n      <td>0.000</td>\n      <td>0.0000</td>\n      <td>SEC's Bitcoin ETF Decision Today - VanEck, Wis...</td>\n      <td>0</td>\n    </tr>\n    <tr>\n      <th>4</th>\n      <td>0.0</td>\n      <td>1.000</td>\n      <td>0.000</td>\n      <td>0.0000</td>\n      <td>Morgan Stanley believes crypto winter is over,...</td>\n      <td>0</td>\n    </tr>\n  </tbody>\n</table>\n</div>"
     },
     "execution_count": 50,
     "metadata": {},
     "output_type": "execute_result"
    }
   ],
   "source": [
    "df['label'] = 0\n",
    "df.loc[df['compound'] > 0.2, 'label'] = 1\n",
    "df.loc[df['compound'] < -0.2, 'label'] = -1\n",
    "df.head()"
   ],
   "metadata": {
    "collapsed": false,
    "ExecuteTime": {
     "end_time": "2023-10-23T22:13:20.596594Z",
     "start_time": "2023-10-23T22:13:20.556271Z"
    }
   }
  },
  {
   "cell_type": "code",
   "execution_count": 51,
   "outputs": [],
   "source": [
    "df2 = df[['headline', 'label']]"
   ],
   "metadata": {
    "collapsed": false,
    "ExecuteTime": {
     "end_time": "2023-10-23T22:13:20.596658Z",
     "start_time": "2023-10-23T22:13:20.557642Z"
    }
   }
  },
  {
   "cell_type": "code",
   "execution_count": 52,
   "outputs": [],
   "source": [
    "df2.to_csv('reddit_title_label.csv', encoding='utf-8', index=False)"
   ],
   "metadata": {
    "collapsed": false,
    "ExecuteTime": {
     "end_time": "2023-10-23T22:13:20.596707Z",
     "start_time": "2023-10-23T22:13:20.560362Z"
    }
   }
  },
  {
   "cell_type": "code",
   "execution_count": 53,
   "outputs": [
    {
     "data": {
      "text/plain": "label\n 0    169\n 1     98\n-1     64\nName: count, dtype: int64"
     },
     "execution_count": 53,
     "metadata": {},
     "output_type": "execute_result"
    }
   ],
   "source": [
    "df.label.value_counts()"
   ],
   "metadata": {
    "collapsed": false,
    "ExecuteTime": {
     "end_time": "2023-10-23T22:13:20.597024Z",
     "start_time": "2023-10-23T22:13:20.574774Z"
    }
   }
  },
  {
   "cell_type": "code",
   "execution_count": 54,
   "outputs": [
    {
     "name": "stdout",
     "output_type": "stream",
     "text": [
      "Positive Titles:\n",
      "\n",
      "['The Great Wall in Web3 (Research)',\n",
      " 'Blockchain improves charity transparency — But is it right for everyone?',\n",
      " 'Amid Rising Bitcoin ETF Hopes, Critics Warn of Vulnerability and Echoes of Precious Metal Manipulation – Bitcoin News',\n",
      " 'GPUtopia is a marketplace where you can very easily sell your GPU computing power to train AI models and be paid back in Bitcoin. Login on thier site with an Alby wallet (lightning network), click '\n",
      " 'on \"load model\" and your good to go. ChatGPU is their decentralized GPT.',\n",
      " 'Stellar, Early Blockchain Built for Payments, Adds Smart Contracts to Take on Ethereum']\n",
      "Negative Titles:\n",
      "\n",
      "['Medical Doctor Confesses to Paying Hitman $25K in Bitcoin to Kill His Girlfriend',\n",
      " 'Solana News: $122 Million in Solana Projected to be Sold as Part of the Dump has been Staked',\n",
      " 'Sugar Land man, 37-year-old Xiaofei Chen, pleads guilty to identity theft in $500,000 Bitstamp cryptocurrency fraud scheme',\n",
      " 'Coinbase picks Ireland as its main EU regulatory hub as U.S. authorities go on the offensive',\n",
      " 'Edward Snowden on the most recent Bitcoin conference in Amsterdam: \"Bitcoin has a privacy problem. The world has a privacy problem\".']\n"
     ]
    }
   ],
   "source": [
    "print(\"Positive Titles:\\n\")\n",
    "pprint(list(df[df['label'] == 1].headline)[:5], width=200)\n",
    "\n",
    "print(\"Negative Titles:\\n\")\n",
    "pprint(list(df[df['label'] == -1].headline)[:5], width=200)"
   ],
   "metadata": {
    "collapsed": false,
    "ExecuteTime": {
     "end_time": "2023-10-23T22:17:56.140550Z",
     "start_time": "2023-10-23T22:17:56.138326Z"
    }
   }
  }
 ],
 "metadata": {
  "kernelspec": {
   "display_name": "Python 3",
   "language": "python",
   "name": "python3"
  },
  "language_info": {
   "codemirror_mode": {
    "name": "ipython",
    "version": 2
   },
   "file_extension": ".py",
   "mimetype": "text/x-python",
   "name": "python",
   "nbconvert_exporter": "python",
   "pygments_lexer": "ipython2",
   "version": "2.7.6"
  }
 },
 "nbformat": 4,
 "nbformat_minor": 0
}
