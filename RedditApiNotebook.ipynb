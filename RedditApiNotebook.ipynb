{
 "cells": [
  {
   "cell_type": "code",
   "execution_count": 1,
   "metadata": {
    "collapsed": true,
    "ExecuteTime": {
     "end_time": "2023-10-25T17:21:34.193806Z",
     "start_time": "2023-10-25T17:21:33.593254Z"
    }
   },
   "outputs": [],
   "source": [
    "from pprint import pprint\n",
    "import pandas as pd"
   ]
  },
  {
   "cell_type": "code",
   "execution_count": 2,
   "outputs": [],
   "source": [
    "import praw\n",
    "\n",
    "user_agent = \"Scraper 1.0 by /u/danieljagun\"\n",
    "reddit = praw.Reddit(\n",
    "    client_id=\"K-AfR5cf3qvXEXM_MTn7IQ\",\n",
    "    client_secret=\"JdAlNMb6dPkWCd4bX4PdXCwIpbA5gQ\",\n",
    "    user_agent=user_agent\n",
    ")"
   ],
   "metadata": {
    "collapsed": false,
    "ExecuteTime": {
     "end_time": "2023-10-25T17:21:34.412054Z",
     "start_time": "2023-10-25T17:21:34.194604Z"
    }
   }
  },
  {
   "cell_type": "markdown",
   "source": [
    "# hot new rising top\n",
    "headlines = set()\n",
    "for submission in reddit.subreddit('CryptoCurrency').hot(limit=None):\n",
    "    print(submission.title)\n",
    "    print(submission.id)\n",
    "    print(submission.author)\n",
    "    print(submission.created_utc)\n",
    "    print(submission.score)\n",
    "    print(submission.upvote_ratio)\n",
    "    print(submission.url)\n",
    "    break\n",
    "    headlines.add(submission.title)\n",
    "print(len(headlines))"
   ],
   "metadata": {
    "collapsed": false
   }
  },
  {
   "cell_type": "code",
   "execution_count": 3,
   "outputs": [
    {
     "name": "stdout",
     "output_type": "stream",
     "text": [
      "333\n"
     ]
    }
   ],
   "source": [
    "# hot new rising top\n",
    "headlines = set()\n",
    "for submission in reddit.subreddit('CryptoCurrency').hot(limit=None):\n",
    "    headlines.add(submission.title)\n",
    "print(len(headlines))"
   ],
   "metadata": {
    "collapsed": false,
    "ExecuteTime": {
     "end_time": "2023-10-25T17:21:42.874194Z",
     "start_time": "2023-10-25T17:21:34.413951Z"
    }
   }
  },
  {
   "cell_type": "code",
   "execution_count": 4,
   "outputs": [
    {
     "data": {
      "text/plain": "                                                   0\n0  Daily Crypto Discussion - October 25, 2023 (GM...\n1  World Bank Tokenizes $100 Million Bond on Euro...\n2    What happened to the Ethereum triple halvening?\n3  Could BlackRock manipulate the market and cras...\n4  InvoiceMate Partners with DFINITY to Migrate t...",
      "text/html": "<div>\n<style scoped>\n    .dataframe tbody tr th:only-of-type {\n        vertical-align: middle;\n    }\n\n    .dataframe tbody tr th {\n        vertical-align: top;\n    }\n\n    .dataframe thead th {\n        text-align: right;\n    }\n</style>\n<table border=\"1\" class=\"dataframe\">\n  <thead>\n    <tr style=\"text-align: right;\">\n      <th></th>\n      <th>0</th>\n    </tr>\n  </thead>\n  <tbody>\n    <tr>\n      <th>0</th>\n      <td>Daily Crypto Discussion - October 25, 2023 (GM...</td>\n    </tr>\n    <tr>\n      <th>1</th>\n      <td>World Bank Tokenizes $100 Million Bond on Euro...</td>\n    </tr>\n    <tr>\n      <th>2</th>\n      <td>What happened to the Ethereum triple halvening?</td>\n    </tr>\n    <tr>\n      <th>3</th>\n      <td>Could BlackRock manipulate the market and cras...</td>\n    </tr>\n    <tr>\n      <th>4</th>\n      <td>InvoiceMate Partners with DFINITY to Migrate t...</td>\n    </tr>\n  </tbody>\n</table>\n</div>"
     },
     "execution_count": 4,
     "metadata": {},
     "output_type": "execute_result"
    }
   ],
   "source": [
    "df = pd.DataFrame(headlines)\n",
    "df.head()"
   ],
   "metadata": {
    "collapsed": false,
    "ExecuteTime": {
     "end_time": "2023-10-25T17:21:42.897525Z",
     "start_time": "2023-10-25T17:21:42.882570Z"
    }
   }
  },
  {
   "cell_type": "code",
   "execution_count": 5,
   "outputs": [],
   "source": [
    "df.to_csv('titles.csv', header=False, encoding='utf-8', index=False)"
   ],
   "metadata": {
    "collapsed": false,
    "ExecuteTime": {
     "end_time": "2023-10-25T17:21:42.923968Z",
     "start_time": "2023-10-25T17:21:42.896609Z"
    }
   }
  },
  {
   "cell_type": "code",
   "execution_count": 6,
   "outputs": [
    {
     "name": "stderr",
     "output_type": "stream",
     "text": [
      "[nltk_data] Downloading package vader_lexicon to\n",
      "[nltk_data]     /Users/daniel/nltk_data...\n",
      "[nltk_data]   Package vader_lexicon is already up-to-date!\n"
     ]
    },
    {
     "data": {
      "text/plain": "True"
     },
     "execution_count": 6,
     "metadata": {},
     "output_type": "execute_result"
    }
   ],
   "source": [
    "import nltk\n",
    "nltk.download('vader_lexicon')"
   ],
   "metadata": {
    "collapsed": false,
    "ExecuteTime": {
     "end_time": "2023-10-25T17:21:43.445904Z",
     "start_time": "2023-10-25T17:21:42.899694Z"
    }
   }
  },
  {
   "cell_type": "code",
   "execution_count": 7,
   "outputs": [
    {
     "name": "stdout",
     "output_type": "stream",
     "text": [
      "[{'compound': 0.0,\n",
      "  'headline': 'Daily Crypto Discussion - October 25, 2023 (GMT+0)',\n",
      "  'neg': 0.0,\n",
      "  'neu': 1.0,\n",
      "  'pos': 0.0},\n",
      " {'compound': 0.3182,\n",
      "  'headline': 'World Bank Tokenizes $100 Million Bond on Euroclear’s New Blockchain Solution',\n",
      "  'neg': 0.0,\n",
      "  'neu': 0.813,\n",
      "  'pos': 0.187},\n",
      " {'compound': 0.0,\n",
      "  'headline': 'What happened to the Ethereum triple halvening?',\n",
      "  'neg': 0.0,\n",
      "  'neu': 1.0,\n",
      "  'pos': 0.0}]\n"
     ]
    }
   ],
   "source": [
    "from nltk.sentiment.vader import SentimentIntensityAnalyzer as Senti\n",
    "\n",
    "senia = Senti()\n",
    "results = []\n",
    "\n",
    "for line in headlines:\n",
    "    pol_score = senia.polarity_scores(line)\n",
    "    pol_score['headline'] = line\n",
    "    results.append(pol_score)\n",
    "\n",
    "pprint(results[:3], width=100)"
   ],
   "metadata": {
    "collapsed": false,
    "ExecuteTime": {
     "end_time": "2023-10-25T17:21:43.464646Z",
     "start_time": "2023-10-25T17:21:43.445472Z"
    }
   }
  },
  {
   "cell_type": "code",
   "execution_count": 8,
   "outputs": [
    {
     "data": {
      "text/plain": "     neg    neu    pos  compound  \\\n0  0.000  1.000  0.000    0.0000   \n1  0.000  0.813  0.187    0.3182   \n2  0.000  1.000  0.000    0.0000   \n3  0.348  0.652  0.000   -0.5859   \n4  0.000  1.000  0.000    0.0000   \n\n                                            headline  \n0  Daily Crypto Discussion - October 25, 2023 (GM...  \n1  World Bank Tokenizes $100 Million Bond on Euro...  \n2    What happened to the Ethereum triple halvening?  \n3  Could BlackRock manipulate the market and cras...  \n4  InvoiceMate Partners with DFINITY to Migrate t...  ",
      "text/html": "<div>\n<style scoped>\n    .dataframe tbody tr th:only-of-type {\n        vertical-align: middle;\n    }\n\n    .dataframe tbody tr th {\n        vertical-align: top;\n    }\n\n    .dataframe thead th {\n        text-align: right;\n    }\n</style>\n<table border=\"1\" class=\"dataframe\">\n  <thead>\n    <tr style=\"text-align: right;\">\n      <th></th>\n      <th>neg</th>\n      <th>neu</th>\n      <th>pos</th>\n      <th>compound</th>\n      <th>headline</th>\n    </tr>\n  </thead>\n  <tbody>\n    <tr>\n      <th>0</th>\n      <td>0.000</td>\n      <td>1.000</td>\n      <td>0.000</td>\n      <td>0.0000</td>\n      <td>Daily Crypto Discussion - October 25, 2023 (GM...</td>\n    </tr>\n    <tr>\n      <th>1</th>\n      <td>0.000</td>\n      <td>0.813</td>\n      <td>0.187</td>\n      <td>0.3182</td>\n      <td>World Bank Tokenizes $100 Million Bond on Euro...</td>\n    </tr>\n    <tr>\n      <th>2</th>\n      <td>0.000</td>\n      <td>1.000</td>\n      <td>0.000</td>\n      <td>0.0000</td>\n      <td>What happened to the Ethereum triple halvening?</td>\n    </tr>\n    <tr>\n      <th>3</th>\n      <td>0.348</td>\n      <td>0.652</td>\n      <td>0.000</td>\n      <td>-0.5859</td>\n      <td>Could BlackRock manipulate the market and cras...</td>\n    </tr>\n    <tr>\n      <th>4</th>\n      <td>0.000</td>\n      <td>1.000</td>\n      <td>0.000</td>\n      <td>0.0000</td>\n      <td>InvoiceMate Partners with DFINITY to Migrate t...</td>\n    </tr>\n  </tbody>\n</table>\n</div>"
     },
     "execution_count": 8,
     "metadata": {},
     "output_type": "execute_result"
    }
   ],
   "source": [
    "df = pd.DataFrame.from_records(results)\n",
    "df.head()"
   ],
   "metadata": {
    "collapsed": false,
    "ExecuteTime": {
     "end_time": "2023-10-25T17:21:43.516022Z",
     "start_time": "2023-10-25T17:21:43.475301Z"
    }
   }
  },
  {
   "cell_type": "code",
   "execution_count": 9,
   "outputs": [
    {
     "data": {
      "text/plain": "     neg    neu    pos  compound  \\\n0  0.000  1.000  0.000    0.0000   \n1  0.000  0.813  0.187    0.3182   \n2  0.000  1.000  0.000    0.0000   \n3  0.348  0.652  0.000   -0.5859   \n4  0.000  1.000  0.000    0.0000   \n\n                                            headline  label  \n0  Daily Crypto Discussion - October 25, 2023 (GM...      0  \n1  World Bank Tokenizes $100 Million Bond on Euro...      1  \n2    What happened to the Ethereum triple halvening?      0  \n3  Could BlackRock manipulate the market and cras...     -1  \n4  InvoiceMate Partners with DFINITY to Migrate t...      0  ",
      "text/html": "<div>\n<style scoped>\n    .dataframe tbody tr th:only-of-type {\n        vertical-align: middle;\n    }\n\n    .dataframe tbody tr th {\n        vertical-align: top;\n    }\n\n    .dataframe thead th {\n        text-align: right;\n    }\n</style>\n<table border=\"1\" class=\"dataframe\">\n  <thead>\n    <tr style=\"text-align: right;\">\n      <th></th>\n      <th>neg</th>\n      <th>neu</th>\n      <th>pos</th>\n      <th>compound</th>\n      <th>headline</th>\n      <th>label</th>\n    </tr>\n  </thead>\n  <tbody>\n    <tr>\n      <th>0</th>\n      <td>0.000</td>\n      <td>1.000</td>\n      <td>0.000</td>\n      <td>0.0000</td>\n      <td>Daily Crypto Discussion - October 25, 2023 (GM...</td>\n      <td>0</td>\n    </tr>\n    <tr>\n      <th>1</th>\n      <td>0.000</td>\n      <td>0.813</td>\n      <td>0.187</td>\n      <td>0.3182</td>\n      <td>World Bank Tokenizes $100 Million Bond on Euro...</td>\n      <td>1</td>\n    </tr>\n    <tr>\n      <th>2</th>\n      <td>0.000</td>\n      <td>1.000</td>\n      <td>0.000</td>\n      <td>0.0000</td>\n      <td>What happened to the Ethereum triple halvening?</td>\n      <td>0</td>\n    </tr>\n    <tr>\n      <th>3</th>\n      <td>0.348</td>\n      <td>0.652</td>\n      <td>0.000</td>\n      <td>-0.5859</td>\n      <td>Could BlackRock manipulate the market and cras...</td>\n      <td>-1</td>\n    </tr>\n    <tr>\n      <th>4</th>\n      <td>0.000</td>\n      <td>1.000</td>\n      <td>0.000</td>\n      <td>0.0000</td>\n      <td>InvoiceMate Partners with DFINITY to Migrate t...</td>\n      <td>0</td>\n    </tr>\n  </tbody>\n</table>\n</div>"
     },
     "execution_count": 9,
     "metadata": {},
     "output_type": "execute_result"
    }
   ],
   "source": [
    "df['label'] = 0\n",
    "df.loc[df['compound'] > 0.2, 'label'] = 1\n",
    "df.loc[df['compound'] < -0.2, 'label'] = -1\n",
    "df.head()"
   ],
   "metadata": {
    "collapsed": false,
    "ExecuteTime": {
     "end_time": "2023-10-25T17:21:43.522385Z",
     "start_time": "2023-10-25T17:21:43.484638Z"
    }
   }
  },
  {
   "cell_type": "code",
   "execution_count": 10,
   "outputs": [],
   "source": [
    "df2 = df[['headline', 'label']]"
   ],
   "metadata": {
    "collapsed": false,
    "ExecuteTime": {
     "end_time": "2023-10-25T17:21:43.523052Z",
     "start_time": "2023-10-25T17:21:43.496766Z"
    }
   }
  },
  {
   "cell_type": "code",
   "execution_count": 11,
   "outputs": [],
   "source": [
    "df2.to_csv('reddit_title_label.csv', encoding='utf-8', index=False)"
   ],
   "metadata": {
    "collapsed": false,
    "ExecuteTime": {
     "end_time": "2023-10-25T17:21:43.523190Z",
     "start_time": "2023-10-25T17:21:43.503552Z"
    }
   }
  },
  {
   "cell_type": "code",
   "execution_count": 12,
   "outputs": [
    {
     "data": {
      "text/plain": "label\n 0    175\n 1     94\n-1     64\nName: count, dtype: int64"
     },
     "execution_count": 12,
     "metadata": {},
     "output_type": "execute_result"
    }
   ],
   "source": [
    "df.label.value_counts()"
   ],
   "metadata": {
    "collapsed": false,
    "ExecuteTime": {
     "end_time": "2023-10-25T17:21:43.523417Z",
     "start_time": "2023-10-25T17:21:43.515650Z"
    }
   }
  },
  {
   "cell_type": "code",
   "execution_count": 13,
   "outputs": [
    {
     "name": "stdout",
     "output_type": "stream",
     "text": [
      "Positive Titles:\n",
      "\n",
      "['World Bank Tokenizes $100 Million Bond on Euroclear’s New Blockchain Solution',\n",
      " \"Roblox Debunks 'Inaccurate' XRP Support Claims, Says Crypto Payments Not Allowed - Decrypt\",\n",
      " 'Bitcoin dominance hits highest point in over two years',\n",
      " 'A letter to crypto media: Slow down, be thoughtful, and get the facts right',\n",
      " 'Spot Bitcoin ETF Excitement Hits Main Street, Google Search Indicates']\n",
      "Negative Titles:\n",
      "\n",
      "['Could BlackRock manipulate the market and crash USDT to buy low?',\n",
      " \"This isn't the first time fake news in crypto has burned investors, Elon Musk also duped the crypto world and everyone quietly forgot about it.\",\n",
      " 'The secret life of Jimmy Zhong, who stole – and lost – more than $3b',\n",
      " 'Fantom Foundation Wallets Drained; $657K Stolen',\n",
      " 'US Chamber of Digital Commerce Backs Binance, Urges SEC to Drop Lawsuit']\n"
     ]
    }
   ],
   "source": [
    "print(\"Positive Titles:\\n\")\n",
    "pprint(list(df[df['label'] == 1].headline)[:5], width=200)\n",
    "\n",
    "print(\"Negative Titles:\\n\")\n",
    "pprint(list(df[df['label'] == -1].headline)[:5], width=200)"
   ],
   "metadata": {
    "collapsed": false,
    "ExecuteTime": {
     "end_time": "2023-10-25T17:21:43.523667Z",
     "start_time": "2023-10-25T17:21:43.518348Z"
    }
   }
  }
 ],
 "metadata": {
  "kernelspec": {
   "display_name": "Python 3",
   "language": "python",
   "name": "python3"
  },
  "language_info": {
   "codemirror_mode": {
    "name": "ipython",
    "version": 2
   },
   "file_extension": ".py",
   "mimetype": "text/x-python",
   "name": "python",
   "nbconvert_exporter": "python",
   "pygments_lexer": "ipython2",
   "version": "2.7.6"
  }
 },
 "nbformat": 4,
 "nbformat_minor": 0
}
